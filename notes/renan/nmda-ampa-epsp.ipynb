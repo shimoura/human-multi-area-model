{
 "cells": [
  {
   "cell_type": "markdown",
   "id": "c8b20085",
   "metadata": {},
   "source": [
    "# NMDA EPSP/EPSC simulation using multisynapse"
   ]
  },
  {
   "cell_type": "code",
   "execution_count": 1,
   "id": "88644785",
   "metadata": {},
   "outputs": [
    {
     "name": "stdout",
     "output_type": "stream",
     "text": [
      "\n",
      "              -- N E S T --\n",
      "  Copyright (C) 2004 The NEST Initiative\n",
      "\n",
      " Version: 3.3\n",
      " Built: Sep 12 2022 04:40:40\n",
      "\n",
      " This program is provided AS IS and comes with\n",
      " NO WARRANTY. See the file LICENSE for details.\n",
      "\n",
      " Problems or suggestions?\n",
      "   Visit https://www.nest-simulator.org\n",
      "\n",
      " Type 'nest.help()' to find out more about NEST.\n",
      "\n"
     ]
    }
   ],
   "source": [
    "# loading libraries\n",
    "import nest\n",
    "import numpy as np\n",
    "import matplotlib.pyplot as plt"
   ]
  },
  {
   "cell_type": "code",
   "execution_count": 2,
   "id": "5bddf1da",
   "metadata": {},
   "outputs": [],
   "source": [
    "# PSC over PSP conversion\n",
    "def psc_over_psp(C_m, tau_m, tau_syn):\n",
    "    \n",
    "    eps = tau_syn / tau_m\n",
    "    PSC_over_PSP = C_m * eps**(-1/(1-eps)) / tau_m\n",
    "    \n",
    "    return PSC_over_PSP"
   ]
  },
  {
   "cell_type": "markdown",
   "id": "2c1d0a46-0b3b-47e3-b302-b4d6a921d62e",
   "metadata": {},
   "source": [
    "Check the generated log output for any potential error messages or warnings.\n",
    "\n",
    "The generated module is called ``nestmlmodule`` by default. It can be loaded using ``nest.Install()``:"
   ]
  },
  {
   "cell_type": "code",
   "execution_count": 3,
   "id": "c4dd842b-5c69-494b-b7e0-fa70d2b4c409",
   "metadata": {},
   "outputs": [
    {
     "name": "stdout",
     "output_type": "stream",
     "text": [
      "\n",
      "Feb 24 13:25:30 Install [Info]: \n",
      "    loaded module nestmlmodule\n"
     ]
    }
   ],
   "source": [
    "nest.Install(\"nestmlmodule\")"
   ]
  },
  {
   "cell_type": "code",
   "execution_count": 4,
   "id": "e01ce1e2",
   "metadata": {
    "tags": []
   },
   "outputs": [],
   "source": [
    "# simulation parameters\n",
    "nest.ResetKernel()\n",
    "simtime  = 500.0"
   ]
  },
  {
   "cell_type": "code",
   "execution_count": 5,
   "id": "3315ce76",
   "metadata": {},
   "outputs": [],
   "source": [
    "# Neuron parameters\n",
    "model_name     = 'iaf_psc_exp_multisynex'\n",
    "model_params_e = {\n",
    "                # Leak potential of the neurons (in mV).\n",
    "                # See Allen Cells GLIF Parameters.ipynb\n",
    "                'E_L': -70.0,\n",
    "                # Threshold potential of the neurons (in mV).\n",
    "                # See Allen Cells GLIF Parameters.ipynb\n",
    "                'V_th': -45.0,\n",
    "                # Membrane potential after a spike (in mV).\n",
    "                # See Allen Cells GLIF Parameters.ipynb\n",
    "                'V_reset': -70.0,\n",
    "                # Membrane capacitance (in pF).\n",
    "                # See Allen Cells GLIF Parameters.ipynb\n",
    "                'C_m': 300.0,\n",
    "                # Membrane time constant (in ms).\n",
    "                # See Allen Cells GLIF Parameters.ipynb\n",
    "                # Lowered to account for high-conductance state.\n",
    "                'tau_m': 10.0,\n",
    "                # Time constant of postsynaptic excitatory currents (in ms).\n",
    "                # Value for AMPA receptors from (Fourcaud & Brunel, 2002)\n",
    "                'tau_syn_ex_AMPA': 2.0,\n",
    "                # Value for NMDA receptors\n",
    "                'tau_syn_ex_NMDA': 100.0,\n",
    "                # Time constant of postsynaptic inhibitory currents (in ms).\n",
    "                # Value for GABA_A receptors from (Fourcaud & Brunel, 2002)\n",
    "                'tau_syn_in': 2.0,\n",
    "                # Refractory period of the neurons after a spike (in ms).\n",
    "                't_ref': 2.0,\n",
    "                # NMDA/AMPA postsynaptic current (PSC) ratio\n",
    "                'r_NMDA': 2.0,\n",
    "                }"
   ]
  },
  {
   "cell_type": "code",
   "execution_count": 6,
   "id": "4cf5f3a4",
   "metadata": {},
   "outputs": [],
   "source": [
    "# Synapses parameters\n",
    "C_m     = model_params_e['C_m']\n",
    "tau_m   = model_params_e['tau_m']\n",
    "tau_syn = model_params_e['tau_syn_ex_AMPA']\n",
    "    \n",
    "PSP_e = 0.15\n",
    "psc_e_over_psp_e = psc_over_psp(C_m, tau_m, tau_syn)\n",
    "psc_e = psc_e_over_psp_e * PSP_e\n",
    "\n",
    "# NMDA parameters\n",
    "tau_syn_nmda = model_params_e['tau_syn_ex_NMDA'] # in ms\n",
    "psc_nmda = model_params_e['r_NMDA']*psc_e*tau_syn/tau_syn_nmda # J_nmda = J_e*tau_s_e/tau_s_nmda\n",
    "\n",
    "syn_dict = {\"weight\": psc_e,\n",
    "            \"receptor_type\":1}"
   ]
  },
  {
   "cell_type": "code",
   "execution_count": 7,
   "id": "0fe02ef3",
   "metadata": {},
   "outputs": [],
   "source": [
    "# Create nodes for neurons and devices\n",
    "n_e = nest.Create(model_name, 1)\n",
    "\n",
    "nest.SetStatus(n_e, model_params_e)\n",
    "nest.SetStatus(n_e, {'V_m':-70.0})\n",
    "\n",
    "# spike generator\n",
    "spk_gen = nest.Create('spike_generator', params={'spike_times': [100.0]})\n",
    "\n",
    "# create multimeter\n",
    "mult = nest.Create('multimeter')\n",
    "nest.SetStatus(mult, {\"record_from\":[\"V_m\"]})\n",
    "spk_record = nest.Create('spike_recorder')"
   ]
  },
  {
   "cell_type": "code",
   "execution_count": 8,
   "id": "d697e762",
   "metadata": {},
   "outputs": [],
   "source": [
    "# Connect neurons and devices\n",
    "nest.Connect(spk_gen, n_e, \"one_to_one\", syn_dict)\n",
    "nest.Connect(n_e, spk_record)\n",
    "nest.Connect(mult, n_e)"
   ]
  },
  {
   "cell_type": "code",
   "execution_count": 9,
   "id": "eeba3c8a",
   "metadata": {},
   "outputs": [
    {
     "name": "stdout",
     "output_type": "stream",
     "text": [
      "\n",
      "Feb 24 13:25:30 NodeManager::prepare_nodes [Info]: \n",
      "    Preparing 4 nodes for simulation.\n",
      "\n",
      "Feb 24 13:25:30 SimulationManager::start_updating_ [Info]: \n",
      "    Number of local nodes: 4\n",
      "    Simulation time (ms): 500\n",
      "    Number of OpenMP threads: 1\n",
      "    Not using MPI\n",
      "\n",
      "Feb 24 13:25:30 SimulationManager::run [Info]: \n",
      "    Simulation finished.\n"
     ]
    }
   ],
   "source": [
    "# Simulation\n",
    "nest.Simulate(simtime)"
   ]
  },
  {
   "cell_type": "code",
   "execution_count": 10,
   "id": "87f533e4",
   "metadata": {},
   "outputs": [
    {
     "name": "stdout",
     "output_type": "stream",
     "text": [
      "0.16447633754123103\n"
     ]
    }
   ],
   "source": [
    "# Read out recording time and voltage from voltmeter\n",
    "spikes = nest.GetStatus(spk_record)[0]['events']['times']\n",
    "ind = nest.GetStatus(spk_record)[0]['events']['senders']\n",
    "\n",
    "times_post = nest.GetStatus(mult)[0]['events']['times']\n",
    "voltages_post = nest.GetStatus(mult)[0]['events']['V_m']\n",
    "\n",
    "psp_max = np.max(voltages_post[0:200])-np.min(voltages_post[0:200])\n",
    "print(psp_max)"
   ]
  },
  {
   "attachments": {},
   "cell_type": "markdown",
   "id": "3899e96a",
   "metadata": {},
   "source": [
    "## Estimating the PSP and comparing with simulation\n",
    "\n",
    "Considering the postsynaptic current defined as a exponential decay, then we have:\n",
    "\n",
    "\\begin{align}\n",
    "I(t) = Je^{(\\frac{-t-t_0}{\\tau_s})}H(t-t_0)\n",
    "\\end{align}\n",
    "\n",
    "where $J$ is the synaptic weight, $t_0$ is the presynaptic spike time, $\\tau_s$ is the synaptic time constant, $H$ the Heaviside function ($0$ if $t<t_0$, $1$ otherwise).\n",
    "\n",
    "Inserting this postsynaptic current in the membrane potential dynamics yields\n",
    "\n",
    "$$\n",
    "\\begin{align}\n",
    "\\tau_m\\frac{dV(t)}{dt} = -(V(t)-E_L)+RJe^{-\\frac{t-t_0}{\\tau_s}}H(t-t_0)\n",
    "\\end{align}\n",
    "$$\n",
    "\n",
    "where $V$ is the membrane potential, $E_L$ is the leak potential, $\\tau_m$ is the membrane time constant, $R$ is the membrane resistance.\n",
    "\n",
    "Solving for the membrane potential:\n",
    "\n",
    "$$\n",
    "\\begin{align}\n",
    "& V(t) = E_L + \\tau_sRJ \\frac{e^{-\\frac{t-t_0}{\\tau_m}}-e^{-\\frac{t-t_0}{\\tau_s}}}{\\tau_m-\\tau_s}H(t-t_0) \\\\\\\n",
    "& V(t) - E_L = PSP(t) = \\tau_sRJ \\frac{e^{-\\frac{t-t_0}{\\tau_m}}-e^{-\\frac{t-t_0}{\\tau_s}}}{\\tau_m-\\tau_s}H(t-t_0)\n",
    "\\end{align}\n",
    "$$\n",
    "\n",
    "Integrating the $PSP(t)$ gives\n",
    "\n",
    "$$\n",
    "\\begin{align}\n",
    "& \\int_{-\\infty}^{\\infty} PSP(t)dt = \\frac{\\tau_sRJ}{\\tau_m-\\tau_s} \\int_{-\\infty}^{\\infty} e^{-\\frac{t-t_0}{\\tau_m}}-e^{-\\frac{t-t_0}{\\tau_s}} = \\tau_sRJ\n",
    "\\end{align}\n",
    "$$"
   ]
  },
  {
   "cell_type": "code",
   "execution_count": 11,
   "id": "cd181bd8",
   "metadata": {},
   "outputs": [
    {
     "data": {
      "image/png": "[encoded data removed]",
      "text/plain": [
       "<Figure size 600x400 with 1 Axes>"
      ]
     },
     "metadata": {},
     "output_type": "display_data"
    }
   ],
   "source": [
    "# plot simulated PSP and estimated PSP\n",
    "R = tau_m/C_m\n",
    "t = np.arange(0,simtime,1.0)\n",
    "\n",
    "psp_est_ampa = R*psc_e*(tau_syn/(tau_syn-tau_m))*(np.exp(-t/tau_syn)-np.exp(-t/tau_m))\n",
    "psp_est_nmda = R*psc_nmda*(tau_syn_nmda/(tau_syn_nmda-tau_m))*(np.exp(-t/tau_syn_nmda)-np.exp(-t/tau_m))\n",
    "\n",
    "plt.figure(figsize=(6,4))\n",
    "plt.plot(times_post, voltages_post,'.', label='simulation')\n",
    "plt.plot(t+101, psp_est_ampa-70.0, label='AMPA')\n",
    "plt.plot(t+101, psp_est_nmda-70.0, label='NMDA')\n",
    "plt.plot(t+101, psp_est_nmda+psp_est_ampa-70.0, label='NMDA+AMPA')\n",
    "plt.ylabel('voltage [mV]')\n",
    "plt.xlabel('time [ms]')\n",
    "plt.xlim(50,500)\n",
    "plt.legend()\n",
    "plt.show()"
   ]
  },
  {
   "cell_type": "markdown",
   "id": "61e392c6",
   "metadata": {},
   "source": [
    "From experimental measurements we know that the mean integral of the NMDA mediated PSP should roughly be one third of the total PSP and the peak value of the NMDA mediated postsynaptic current should be around the half of the peak value of the AMPA mediated postsynaptic current. (TODO: add and check the references)"
   ]
  },
  {
   "cell_type": "code",
   "execution_count": 12,
   "id": "452e818d",
   "metadata": {},
   "outputs": [
    {
     "data": {
      "text/plain": [
       "33.64534757747746"
      ]
     },
     "execution_count": 12,
     "metadata": {},
     "output_type": "execute_result"
    }
   ],
   "source": [
    "psc_e"
   ]
  },
  {
   "cell_type": "code",
   "execution_count": 13,
   "id": "237804da",
   "metadata": {},
   "outputs": [
    {
     "data": {
      "text/plain": [
       "1.3458139030990983"
      ]
     },
     "execution_count": 13,
     "metadata": {},
     "output_type": "execute_result"
    }
   ],
   "source": [
    "psc_nmda"
   ]
  },
  {
   "cell_type": "code",
   "execution_count": 14,
   "id": "2a58640a",
   "metadata": {},
   "outputs": [
    {
     "data": {
      "text/plain": [
       "2.2430231718318305"
      ]
     },
     "execution_count": 14,
     "metadata": {},
     "output_type": "execute_result"
    }
   ],
   "source": [
    "meanInt_AMPA = psc_e*tau_syn*R\n",
    "meanInt_AMPA"
   ]
  },
  {
   "cell_type": "code",
   "execution_count": 15,
   "id": "e7c1661a",
   "metadata": {},
   "outputs": [
    {
     "data": {
      "text/plain": [
       "4.486046343663661"
      ]
     },
     "execution_count": 15,
     "metadata": {},
     "output_type": "execute_result"
    }
   ],
   "source": [
    "meanInt_NMDA = psc_nmda*tau_syn_nmda*R\n",
    "meanInt_NMDA"
   ]
  }
 ],
 "metadata": {
  "kernelspec": {
   "display_name": "wnestml",
   "language": "python",
   "name": "python3"
  },
  "language_info": {
   "codemirror_mode": {
    "name": "ipython",
    "version": 3
   },
   "file_extension": ".py",
   "mimetype": "text/x-python",
   "name": "python",
   "nbconvert_exporter": "python",
   "pygments_lexer": "ipython3",
   "version": "3.10.6"
  },
  "vscode": {
   "interpreter": {
    "hash": "df82afebce280032e8160543ebada9937141c5b32f3cabb0e038b145b560ae6d"
   }
  }
 },
 "nbformat": 4,
 "nbformat_minor": 5
}
