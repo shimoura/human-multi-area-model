{
 "cells": [
  {
   "cell_type": "markdown",
   "id": "c8b20085",
   "metadata": {},
   "source": [
    "# NMDA EPSP/EPSC simulation using multisynapse"
   ]
  },
  {
   "cell_type": "code",
   "execution_count": 1,
   "id": "88644785",
   "metadata": {},
   "outputs": [
    {
     "name": "stdout",
     "output_type": "stream",
     "text": [
      "\n",
      "              -- N E S T --\n",
      "  Copyright (C) 2004 The NEST Initiative\n",
      "\n",
      " Version: 3.8.0\n",
      " Built: Aug 27 2024 04:33:06\n",
      "\n",
      " This program is provided AS IS and comes with\n",
      " NO WARRANTY. See the file LICENSE for details.\n",
      "\n",
      " Problems or suggestions?\n",
      "   Visit https://www.nest-simulator.org\n",
      "\n",
      " Type 'nest.help()' to find out more about NEST.\n",
      "\n"
     ]
    }
   ],
   "source": [
    "# loading libraries\n",
    "import os\n",
    "import nest\n",
    "import numpy as np\n",
    "import matplotlib.pyplot as plt"
   ]
  },
  {
   "attachments": {},
   "cell_type": "markdown",
   "id": "72d6dd8b",
   "metadata": {},
   "source": [
    "## Comparing two cases with different NMDA/AMPA ratios\n",
    "\n",
    "As an example, we will create two neurons with different NMDA to AMPA ratios and show their EPSPs. \n",
    "\n",
    "- neuron1 with r_NMDA = 1.5\n",
    "- neuron2 with r_NMDA = 4.0 "
   ]
  },
  {
   "cell_type": "code",
   "execution_count": 2,
   "id": "5bddf1da",
   "metadata": {},
   "outputs": [],
   "source": [
    "# PSC over PSP conversion\n",
    "def psc_over_psp(C_m, tau_m, tau_syn):\n",
    "    \n",
    "    eps = tau_syn / tau_m\n",
    "    PSC_over_PSP = C_m * eps**(-1/(1-eps)) / tau_m\n",
    "    \n",
    "    return PSC_over_PSP"
   ]
  },
  {
   "cell_type": "code",
   "execution_count": 3,
   "id": "e01ce1e2",
   "metadata": {
    "tags": []
   },
   "outputs": [],
   "source": [
    "# simulation parameters\n",
    "nest.ResetKernel()\n",
    "simtime  = 500.0"
   ]
  },
  {
   "cell_type": "code",
   "execution_count": 4,
   "id": "c4dd842b-5c69-494b-b7e0-fa70d2b4c409",
   "metadata": {},
   "outputs": [
    {
     "name": "stdout",
     "output_type": "stream",
     "text": [
      "\n",
      "Feb 27 03:00:26 Install [Info]: \n",
      "    loaded module ampa_nmda_module\n"
     ]
    }
   ],
   "source": [
    "# Get the absolute path to the parent directory of the current working directory\n",
    "repo_parent_dir = os.path.abspath(os.path.join(os.getcwd(), os.pardir))\n",
    "\n",
    "# Get the absolute path to the main directory of the repository\n",
    "repo_main_dir = os.path.abspath(os.path.join(repo_parent_dir, os.pardir))\n",
    "\n",
    "# Set the LD_LIBRARY_PATH to include the directory where the module is located\n",
    "os.environ['LD_LIBRARY_PATH'] = repo_main_dir + '/notes/renan/target:' + os.environ.get('LD_LIBRARY_PATH', '')\n",
    "\n",
    "# Now try to install the module again\n",
    "nest.Install(\"ampa_nmda_module\")"
   ]
  },
  {
   "cell_type": "code",
   "execution_count": 5,
   "id": "3315ce76",
   "metadata": {},
   "outputs": [],
   "source": [
    "# Neuron parameters\n",
    "model_name     = 'iaf_psc_exp_multisyn_exc_neuron_nestml'\n",
    "model_params_e = {\n",
    "                # Leak potential of the neurons (in mV).\n",
    "                # See Allen Cells GLIF Parameters.ipynb\n",
    "                'E_L': -70.0,\n",
    "                # Threshold potential of the neurons (in mV).\n",
    "                # See Allen Cells GLIF Parameters.ipynb\n",
    "                'V_th': -45.0,\n",
    "                # Membrane potential after a spike (in mV).\n",
    "                # See Allen Cells GLIF Parameters.ipynb\n",
    "                'V_reset': -70.0,\n",
    "                # Membrane capacitance (in pF).\n",
    "                # See Allen Cells GLIF Parameters.ipynb\n",
    "                'C_m': 300.0,\n",
    "                # Membrane time constant (in ms).\n",
    "                # See Allen Cells GLIF Parameters.ipynb\n",
    "                # Lowered to account for high-conductance state.\n",
    "                'tau_m': 10.0,\n",
    "                # Time constant of postsynaptic excitatory currents (in ms).\n",
    "                # Value for AMPA receptors from (Fourcaud & Brunel, 2002)\n",
    "                'tau_syn_exc_AMPA': 2.0,\n",
    "                # Value for NMDA receptors\n",
    "                'tau_syn_exc_NMDA': 100.0,\n",
    "                # Time constant of postsynaptic inhibitory currents (in ms).\n",
    "                # Value for GABA_A receptors from (Fourcaud & Brunel, 2002)\n",
    "                'tau_syn_inh': 2.0,\n",
    "                # Refractory period of the neurons after a spike (in ms).\n",
    "                't_ref': 2.0,\n",
    "                # NMDA/AMPA postsynaptic current (PSC) ratio\n",
    "                'r_NMDA': 2.0,\n",
    "                }"
   ]
  },
  {
   "cell_type": "code",
   "execution_count": 6,
   "id": "4cf5f3a4",
   "metadata": {},
   "outputs": [],
   "source": [
    "# Synapses parameters\n",
    "C_m     = model_params_e['C_m']\n",
    "tau_m   = model_params_e['tau_m']\n",
    "tau_syn = model_params_e['tau_syn_exc_AMPA']\n",
    "    \n",
    "PSP_e = 0.15\n",
    "psc_e_over_psp_e = psc_over_psp(C_m, tau_m, tau_syn)\n",
    "psc_e = psc_e_over_psp_e * PSP_e\n",
    "\n",
    "# NMDA parameters\n",
    "tau_syn_nmda = model_params_e['tau_syn_exc_NMDA'] # in ms\n",
    "psc_nmda = model_params_e['r_NMDA']*psc_e*tau_syn/tau_syn_nmda # J_nmda = J_e*tau_s_e/tau_s_nmda\n",
    "\n",
    "syn_dict = {\"weight\": psc_e}"
   ]
  },
  {
   "cell_type": "code",
   "execution_count": 7,
   "id": "0fe02ef3",
   "metadata": {},
   "outputs": [],
   "source": [
    "# Create nodes for neurons and devices\n",
    "n_e = nest.Create(model_name, 3)\n",
    "\n",
    "nest.SetStatus(n_e, model_params_e)\n",
    "nest.SetStatus(n_e, {'V_m':-70.0, 'r_NMDA':[0.0, 1.0, 4.0]})\n",
    "\n",
    "# spike generator\n",
    "spk_gen = nest.Create('spike_generator', 3, params={'spike_times': [100.0]})\n",
    "\n",
    "# create multimeter\n",
    "mult = nest.Create('multimeter')\n",
    "nest.SetStatus(mult, {\"record_from\":[\"V_m\"]})\n",
    "spk_record = nest.Create('spike_recorder')"
   ]
  },
  {
   "cell_type": "code",
   "execution_count": 8,
   "id": "d697e762",
   "metadata": {},
   "outputs": [],
   "source": [
    "# Connect neurons and devices\n",
    "nest.Connect(spk_gen, n_e, \"one_to_one\", syn_dict)\n",
    "nest.Connect(n_e, spk_record)\n",
    "nest.Connect(mult, n_e)"
   ]
  },
  {
   "cell_type": "code",
   "execution_count": 9,
   "id": "eeba3c8a",
   "metadata": {},
   "outputs": [
    {
     "name": "stdout",
     "output_type": "stream",
     "text": [
      "\n",
      "Feb 27 03:00:26 NodeManager::prepare_nodes [Info]: \n",
      "    Preparing 8 nodes for simulation.\n",
      "\n",
      "Feb 27 03:00:26 SimulationManager::start_updating_ [Info]: \n",
      "    Number of local nodes: 8\n",
      "    Simulation time (ms): 500\n",
      "    Number of OpenMP threads: 1\n",
      "    Not using MPI\n",
      "\n",
      "Feb 27 03:00:26 SimulationManager::run [Info]: \n",
      "    Simulation finished.\n"
     ]
    }
   ],
   "source": [
    "# Simulation\n",
    "nest.Simulate(simtime)"
   ]
  },
  {
   "cell_type": "code",
   "execution_count": 10,
   "id": "87f533e4",
   "metadata": {},
   "outputs": [],
   "source": [
    "# Read out recording time and voltage from voltmeter\n",
    "times_post1 = nest.GetStatus(mult)[0]['events']['times'][0:-1:3]\n",
    "voltages_post1 = nest.GetStatus(mult)[0]['events']['V_m'][0:-1:3]\n",
    "\n",
    "times_post2 = nest.GetStatus(mult)[0]['events']['times'][1:-1:3]\n",
    "voltages_post2 = nest.GetStatus(mult)[0]['events']['V_m'][1:-1:3]\n",
    "\n",
    "times_post3 = nest.GetStatus(mult)[0]['events']['times'][2:-1:3]\n",
    "voltages_post3 = nest.GetStatus(mult)[0]['events']['V_m'][2:-1:3]"
   ]
  },
  {
   "cell_type": "code",
   "execution_count": 11,
   "id": "cd181bd8",
   "metadata": {},
   "outputs": [
    {
     "data": {
      "image/png": "[encoded data removed]",
      "text/plain": [
       "<Figure size 600x400 with 1 Axes>"
      ]
     },
     "metadata": {},
     "output_type": "display_data"
    }
   ],
   "source": [
    "# plot simulated PSP and estimated PSP\n",
    "plt.figure(figsize=(6,4))\n",
    "plt.plot(times_post1, voltages_post1, label='NMDA/AMPA: 0.0')\n",
    "plt.plot(times_post2, voltages_post2,label='NMDA/AMPA: 1.5')\n",
    "plt.plot(times_post3, voltages_post3,label='NMDA/AMPA: 4.0')\n",
    "plt.ylabel('voltage [mV]')\n",
    "plt.xlabel('time [ms]')\n",
    "plt.xlim(50,500)\n",
    "plt.legend()\n",
    "plt.show()"
   ]
  },
  {
   "cell_type": "code",
   "execution_count": 12,
   "id": "f40d095a",
   "metadata": {},
   "outputs": [
    {
     "data": {
      "text/plain": [
       "array([  1.,   2.,   3.,   4.,   5.,   6.,   7.,   8.,   9.,  10.,  11.,\n",
       "        12.,  13.,  14.,  15.,  16.,  17.,  18.,  19.,  20.,  21.,  22.,\n",
       "        23.,  24.,  25.,  26.,  27.,  28.,  29.,  30.,  31.,  32.,  33.,\n",
       "        34.,  35.,  36.,  37.,  38.,  39.,  40.,  41.,  42.,  43.,  44.,\n",
       "        45.,  46.,  47.,  48.,  49.,  50.,  51.,  52.,  53.,  54.,  55.,\n",
       "        56.,  57.,  58.,  59.,  60.,  61.,  62.,  63.,  64.,  65.,  66.,\n",
       "        67.,  68.,  69.,  70.,  71.,  72.,  73.,  74.,  75.,  76.,  77.,\n",
       "        78.,  79.,  80.,  81.,  82.,  83.,  84.,  85.,  86.,  87.,  88.,\n",
       "        89.,  90.,  91.,  92.,  93.,  94.,  95.,  96.,  97.,  98.,  99.,\n",
       "       100., 101., 102., 103., 104., 105., 106., 107., 108., 109., 110.,\n",
       "       111., 112., 113., 114., 115., 116., 117., 118., 119., 120., 121.,\n",
       "       122., 123., 124., 125., 126., 127., 128., 129., 130., 131., 132.,\n",
       "       133., 134., 135., 136., 137., 138., 139., 140., 141., 142., 143.,\n",
       "       144., 145., 146., 147., 148., 149., 150., 151., 152., 153., 154.,\n",
       "       155., 156., 157., 158., 159., 160., 161., 162., 163., 164., 165.,\n",
       "       166., 167., 168., 169., 170., 171., 172., 173., 174., 175., 176.,\n",
       "       177., 178., 179., 180., 181., 182., 183., 184., 185., 186., 187.,\n",
       "       188., 189., 190., 191., 192., 193., 194., 195., 196., 197., 198.,\n",
       "       199., 200., 201., 202., 203., 204., 205., 206., 207., 208., 209.,\n",
       "       210., 211., 212., 213., 214., 215., 216., 217., 218., 219., 220.,\n",
       "       221., 222., 223., 224., 225., 226., 227., 228., 229., 230., 231.,\n",
       "       232., 233., 234., 235., 236., 237., 238., 239., 240., 241., 242.,\n",
       "       243., 244., 245., 246., 247., 248., 249., 250., 251., 252., 253.,\n",
       "       254., 255., 256., 257., 258., 259., 260., 261., 262., 263., 264.,\n",
       "       265., 266., 267., 268., 269., 270., 271., 272., 273., 274., 275.,\n",
       "       276., 277., 278., 279., 280., 281., 282., 283., 284., 285., 286.,\n",
       "       287., 288., 289., 290., 291., 292., 293., 294., 295., 296., 297.,\n",
       "       298., 299., 300., 301., 302., 303., 304., 305., 306., 307., 308.,\n",
       "       309., 310., 311., 312., 313., 314., 315., 316., 317., 318., 319.,\n",
       "       320., 321., 322., 323., 324., 325., 326., 327., 328., 329., 330.,\n",
       "       331., 332., 333., 334., 335., 336., 337., 338., 339., 340., 341.,\n",
       "       342., 343., 344., 345., 346., 347., 348., 349., 350., 351., 352.,\n",
       "       353., 354., 355., 356., 357., 358., 359., 360., 361., 362., 363.,\n",
       "       364., 365., 366., 367., 368., 369., 370., 371., 372., 373., 374.,\n",
       "       375., 376., 377., 378., 379., 380., 381., 382., 383., 384., 385.,\n",
       "       386., 387., 388., 389., 390., 391., 392., 393., 394., 395., 396.,\n",
       "       397., 398., 399., 400., 401., 402., 403., 404., 405., 406., 407.,\n",
       "       408., 409., 410., 411., 412., 413., 414., 415., 416., 417., 418.,\n",
       "       419., 420., 421., 422., 423., 424., 425., 426., 427., 428., 429.,\n",
       "       430., 431., 432., 433., 434., 435., 436., 437., 438., 439., 440.,\n",
       "       441., 442., 443., 444., 445., 446., 447., 448., 449., 450., 451.,\n",
       "       452., 453., 454., 455., 456., 457., 458., 459., 460., 461., 462.,\n",
       "       463., 464., 465., 466., 467., 468., 469., 470., 471., 472., 473.,\n",
       "       474., 475., 476., 477., 478., 479., 480., 481., 482., 483., 484.,\n",
       "       485., 486., 487., 488., 489., 490., 491., 492., 493., 494., 495.,\n",
       "       496., 497., 498., 499.])"
      ]
     },
     "execution_count": 12,
     "metadata": {},
     "output_type": "execute_result"
    }
   ],
   "source": [
    "nest.GetStatus(mult)[0]['events']['times'][0:-1:3]"
   ]
  },
  {
   "cell_type": "code",
   "execution_count": null,
   "id": "5c6c6ec4",
   "metadata": {},
   "outputs": [],
   "source": []
  }
 ],
 "metadata": {
  "kernelspec": {
   "display_name": "humam-nest3",
   "language": "python",
   "name": "python3"
  },
  "language_info": {
   "codemirror_mode": {
    "name": "ipython",
    "version": 3
   },
   "file_extension": ".py",
   "mimetype": "text/x-python",
   "name": "python",
   "nbconvert_exporter": "python",
   "pygments_lexer": "ipython3",
   "version": "3.12.7"
  }
 },
 "nbformat": 4,
 "nbformat_minor": 5
}
