{
 "cells": [
  {
   "cell_type": "code",
   "execution_count": null,
   "metadata": {},
   "outputs": [],
   "source": [
    "%matplotlib inline\n",
    "import matplotlib.pyplot as plt\n",
    "import nest\n",
    "import numpy as np\n",
    "import os\n",
    "\n",
    "from pynestml.codegeneration.nest_code_generator_utils import NESTCodeGeneratorUtils\n",
    "\n",
    "# NEST installation directory path\n",
    "NEST_SIMULATOR_INSTALL_LOCATION = nest.ll_api.sli_func(\"statusdict/prefix ::\")\n"
   ]
  },
  {
   "cell_type": "markdown",
   "metadata": {},
   "source": [
    "### NESTML code generation\n",
    "\n",
    "Assume that our NESTML input model is called `iaf_psc_exp_multisyn_exc.nestml`. To generate code and build a dynamic library that can be loaded as a user module in NEST Simulator:"
   ]
  },
  {
   "cell_type": "code",
   "execution_count": null,
   "metadata": {},
   "outputs": [],
   "source": [
    "# Get the absolute path to the parent directory of the current working directory\n",
    "repo_parent_dir = os.path.abspath(os.path.join(os.getcwd(), os.pardir))\n",
    "\n",
    "# Get the absolute path to the main directory of the repository\n",
    "repo_main_dir = os.path.abspath(os.path.join(repo_parent_dir, os.pardir))\n",
    "\n",
    "# Get the absolute path to the NESTML model\n",
    "nestml_model_dir = os.path.join(repo_main_dir, \"src\" , \"nestml_models\", \"iaf_psc_exp_multisyn_exc_neuron.nestml\")\n",
    "\n",
    "print(nestml_model_dir)"
   ]
  },
  {
   "cell_type": "code",
   "execution_count": null,
   "metadata": {},
   "outputs": [],
   "source": [
    "# generate_target(input_path=nestml_model_dir,\n",
    "#                 target_platform=\"NEST\",\n",
    "#                 target_path=\"/tmp/nestml-component\",\n",
    "#                 logging_level=\"INFO\"\n",
    "#                 )\n",
    "\n",
    "module_name, neuron_model_name = NESTCodeGeneratorUtils.generate_code_for(nestml_model_dir)"
   ]
  },
  {
   "cell_type": "markdown",
   "metadata": {},
   "source": [
    "Check the generated log output for any potential error messages or warnings.\n",
    "\n",
    "The generated module is called ``nestmlmodule`` by default. It can be loaded using ``nest.Install()``:"
   ]
  },
  {
   "cell_type": "code",
   "execution_count": null,
   "metadata": {
    "scrolled": true
   },
   "outputs": [],
   "source": [
    "nest.Install(module_name)"
   ]
  },
  {
   "cell_type": "markdown",
   "metadata": {},
   "source": [
    "### Instantiate model in NEST Simulator and run\n",
    "\n",
    "Using the PyNEST API, the model can be instantiated and simulated in NEST. The following code will create one instance of the neuron model (`nest.Create(\"iaf_psc_exp_multisynex\")`), inject a pulse current coming from a pre-synaptic spike and run for 500 ms."
   ]
  },
  {
   "cell_type": "code",
   "execution_count": null,
   "metadata": {},
   "outputs": [],
   "source": [
    "model_params_e = {\n",
    "                # Leak potential of the neurons (in mV).\n",
    "                # See Allen Cells GLIF Parameters.ipynb\n",
    "                'E_L': -70.0,\n",
    "                # Threshold potential of the neurons (in mV).\n",
    "                # See Allen Cells GLIF Parameters.ipynb\n",
    "                'V_th': -45.0,\n",
    "                # Membrane potential after a spike (in mV).\n",
    "                # See Allen Cells GLIF Parameters.ipynb\n",
    "                'V_reset': -70.0,\n",
    "                # Membrane capacitance (in pF).\n",
    "                # See Allen Cells GLIF Parameters.ipynb\n",
    "                'C_m': 300.0,\n",
    "                # Membrane time constant (in ms).\n",
    "                # See Allen Cells GLIF Parameters.ipynb\n",
    "                # Lowered to account for high-conductance state.\n",
    "                'tau_m': 10.0,\n",
    "                # Time constant of postsynaptic excitatory currents (in ms).\n",
    "                # Value for AMPA receptors from (Fourcaud & Brunel, 2002)\n",
    "                'tau_syn_exc_AMPA': 2.0,\n",
    "                # Value for NMDA receptors\n",
    "                'tau_syn_exc_NMDA': 100.0,\n",
    "                # Time constant of postsynaptic inhibitory currents (in ms).\n",
    "                # Value for GABA_A receptors from (Fourcaud & Brunel, 2002)\n",
    "                'tau_syn_inh': 5.0,\n",
    "                # Refractory period of the neurons after a spike (in ms).\n",
    "                't_ref': 2.0,\n",
    "                'r_NMDA': 2.0,\n",
    "                }"
   ]
  },
  {
   "cell_type": "code",
   "execution_count": null,
   "metadata": {},
   "outputs": [],
   "source": [
    "nest.set_verbosity(\"M_WARNING\")\n",
    "nest.ResetKernel()\n",
    "\n",
    "neuron = nest.Create(neuron_model_name)\n",
    "nest.SetStatus(neuron, model_params_e)\n",
    "voltmeter = nest.Create(\"voltmeter\")\n",
    "\n",
    "voltmeter.set({\"record_from\": [\"V_m\"]})\n",
    "nest.Connect(voltmeter, neuron)\n",
    "\n",
    "sg = nest.Create(\"spike_generator\", params={\"spike_times\": [20.]})\n",
    "nest.Connect(sg, neuron, syn_spec={\"receptor_type\": 1, \"weight\": 100., \"delay\": 0.1})\n",
    "\n",
    "sr = nest.Create(\"spike_recorder\")\n",
    "nest.Connect(neuron, sr)\n",
    "\n",
    "nest.Simulate(500.)\n",
    "\n",
    "spike_times = nest.GetStatus(sr, keys='events')[0]['times']\n",
    "\n",
    "fig, ax = plt.subplots(nrows=1)\n",
    "ax.plot(voltmeter.get(\"events\")[\"times\"], voltmeter.get(\"events\")[\"V_m\"])\n",
    "ax.scatter(spike_times, 30 * np.ones_like(spike_times), marker=\"d\", c=\"orange\", alpha=.8, zorder=99)\n",
    "ax.grid(True)\n",
    "ax.set_ylabel(\"V [mV]\")\n",
    "ax.set_xlabel(\"Time [ms]\")"
   ]
  },
  {
   "cell_type": "code",
   "execution_count": null,
   "metadata": {},
   "outputs": [],
   "source": [
    "nest.GetStatus(nest.GetConnections(target=neuron, source=sg))"
   ]
  },
  {
   "cell_type": "code",
   "execution_count": null,
   "metadata": {},
   "outputs": [],
   "source": [
    "NEST_SIMULATOR_INSTALL_LOCATION"
   ]
  }
 ],
 "metadata": {
  "kernelspec": {
   "display_name": "humam-extension",
   "language": "python",
   "name": "python3"
  },
  "language_info": {
   "codemirror_mode": {
    "name": "ipython",
    "version": 3
   },
   "file_extension": ".py",
   "mimetype": "text/x-python",
   "name": "python",
   "nbconvert_exporter": "python",
   "pygments_lexer": "ipython3",
   "version": "3.12.7"
  }
 },
 "nbformat": 4,
 "nbformat_minor": 4
}
