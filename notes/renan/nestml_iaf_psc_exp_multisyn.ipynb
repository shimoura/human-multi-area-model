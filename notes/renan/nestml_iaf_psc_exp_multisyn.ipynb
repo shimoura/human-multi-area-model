{
 "cells": [
  {
   "cell_type": "code",
   "execution_count": 1,
   "metadata": {},
   "outputs": [
    {
     "name": "stdout",
     "output_type": "stream",
     "text": [
      "\n",
      "              -- N E S T --\n",
      "  Copyright (C) 2004 The NEST Initiative\n",
      "\n",
      " Version: 3.8.0\n",
      " Built: Aug 27 2024 04:33:06\n",
      "\n",
      " This program is provided AS IS and comes with\n",
      " NO WARRANTY. See the file LICENSE for details.\n",
      "\n",
      " Problems or suggestions?\n",
      "   Visit https://www.nest-simulator.org\n",
      "\n",
      " Type 'nest.help()' to find out more about NEST.\n",
      "\n"
     ]
    }
   ],
   "source": [
    "%matplotlib inline\n",
    "import matplotlib.pyplot as plt\n",
    "import nest\n",
    "import numpy as np\n",
    "import os\n",
    "\n",
    "from pynestml.codegeneration.nest_code_generator_utils import NESTCodeGeneratorUtils\n",
    "\n",
    "# NEST installation directory path\n",
    "NEST_SIMULATOR_INSTALL_LOCATION = nest.ll_api.sli_func(\"statusdict/prefix ::\")\n"
   ]
  },
  {
   "cell_type": "markdown",
   "metadata": {},
   "source": [
    "### NESTML code generation\n",
    "\n",
    "Assume that our NESTML input model is called `iaf_psc_exp_multisyn_exc.nestml`. To generate code and build a dynamic library that can be loaded as a user module in NEST Simulator:"
   ]
  },
  {
   "cell_type": "code",
   "execution_count": 2,
   "metadata": {},
   "outputs": [
    {
     "name": "stdout",
     "output_type": "stream",
     "text": [
      "/home/shimoura/Github/humam-add-nmda-synapses/src/nestml_models/iaf_psc_exp_multisyn_exc_neuron.nestml\n"
     ]
    }
   ],
   "source": [
    "# Get the absolute path to the parent directory of the current working directory\n",
    "repo_parent_dir = os.path.abspath(os.path.join(os.getcwd(), os.pardir))\n",
    "\n",
    "# Get the absolute path to the main directory of the repository\n",
    "repo_main_dir = os.path.abspath(os.path.join(repo_parent_dir, os.pardir))\n",
    "\n",
    "# Get the absolute path to the NESTML model\n",
    "nestml_model_dir = os.path.join(repo_main_dir, \"src\" , \"nestml_models\", \"iaf_psc_exp_multisyn_exc_neuron.nestml\")\n",
    "\n",
    "print(nestml_model_dir)"
   ]
  },
  {
   "cell_type": "code",
   "execution_count": 3,
   "metadata": {},
   "outputs": [
    {
     "name": "stderr",
     "output_type": "stream",
     "text": [
      "WARNING:root:PyGSL is not available. The stiffness test will be skipped.\n",
      "WARNING:root:Error when importing: No module named 'pygsl'\n"
     ]
    },
    {
     "name": "stdout",
     "output_type": "stream",
     "text": [
      "\n",
      "              -- N E S T --\n",
      "  Copyright (C) 2004 The NEST Initiative\n",
      "\n",
      " Version: 3.8.0\n",
      " Built: Aug 27 2024 04:33:06\n",
      "\n",
      " This program is provided AS IS and comes with\n",
      " NO WARRANTY. See the file LICENSE for details.\n",
      "\n",
      " Problems or suggestions?\n",
      "   Visit https://www.nest-simulator.org\n",
      "\n",
      " Type 'nest.help()' to find out more about NEST.\n",
      "\n"
     ]
    },
    {
     "name": "stderr",
     "output_type": "stream",
     "text": [
      "WARNING:root:Under certain conditions, the propagator matrix is singular (contains infinities).\n",
      "WARNING:root:List of all conditions that result in a singular propagator:\n",
      "WARNING:root:\ttau_m = tau_syn_exc_NMDA\n",
      "WARNING:root:\ttau_m = tau_syn_exc_AMPA\n",
      "WARNING:root:\ttau_m = tau_syn_inh\n",
      "WARNING:root:Not preserving expression for variable \"V_m\" as it is solved by propagator solver\n",
      "WARNING:root:Not preserving expression for variable \"refr_t\" as it is solved by propagator solver\n"
     ]
    },
    {
     "name": "stdout",
     "output_type": "stream",
     "text": [
      "\u001b[33mCMake Warning (dev) at CMakeLists.txt:93 (project):\n",
      "  cmake_minimum_required() should be called prior to this top-level project()\n",
      "  call.  Please see the cmake-commands(7) manual for usage documentation of\n",
      "  both commands.\n",
      "This warning is for project developers.  Use -Wno-dev to suppress it.\n",
      "\u001b[0m\n",
      "-- The CXX compiler identification is GNU 13.3.0\n",
      "-- Detecting CXX compiler ABI info\n",
      "-- Detecting CXX compiler ABI info - done\n",
      "-- Check for working CXX compiler: /home/shimoura/miniforge3/envs/humam-nest3/bin/x86_64-conda-linux-gnu-c++ - skipped\n",
      "-- Detecting CXX compile features\n",
      "-- Detecting CXX compile features - done\n",
      "\u001b[0m\u001b[0m\n",
      "\u001b[0m-------------------------------------------------------\u001b[0m\n",
      "\u001b[0mampa_nmda_module Configuration Summary\u001b[0m\n",
      "\u001b[0m-------------------------------------------------------\u001b[0m\n",
      "\u001b[0m\u001b[0m\n",
      "\u001b[0mC++ compiler         : /home/shimoura/miniforge3/envs/humam-nest3/bin/x86_64-conda-linux-gnu-c++\u001b[0m\n",
      "\u001b[0mBuild static libs    : OFF\u001b[0m\n",
      "\u001b[0mC++ compiler flags   : -fvisibility-inlines-hidden -fmessage-length=0 -march=nocona -mtune=haswell -ftree-vectorize -fPIC -fstack-protector-strong -fno-plt -O2 -ffunction-sections -pipe -isystem /home/shimoura/miniforge3/envs/humam-nest3/include\u001b[0m\n",
      "\u001b[0mNEST compiler flags  : -fvisibility-inlines-hidden -fmessage-length=0 -march=nocona -mtune=haswell -ftree-vectorize -fPIC -fstack-protector-strong -fno-plt -O2 -ffunction-sections -pipe -isystem /home/shimoura/miniforge3/envs/humam-nest3/include -fdebug-prefix-map=/home/conda/feedstock_root/build_artifacts/nest-simulator_1724732947111/work=/usr/local/src/conda/nest-simulator-3.8 -fdebug-prefix-map=/home/shimoura/miniforge3/envs/humam-nest3=/usr/local/src/conda-prefix -lrt -std=c++17 -Wall -fopenmp -O2 -fdiagnostics-color=auto\u001b[0m\n",
      "\u001b[0mNEST include dirs    :  -I/home/shimoura/miniforge3/envs/humam-nest3/include/nest -I/home/shimoura/miniforge3/envs/humam-nest3/include -I/home/shimoura/miniforge3/envs/humam-nest3/include -I/home/shimoura/miniforge3/envs/humam-nest3/include -I/home/shimoura/miniforge3/envs/humam-nest3/include\u001b[0m\n",
      "\u001b[0mNEST libraries flags : -L/home/shimoura/miniforge3/envs/humam-nest3/lib/nest -lnest -lsli /home/shimoura/miniforge3/envs/humam-nest3/x86_64-conda-linux-gnu/sysroot/usr/lib/libpthread.so\u001b[0m\n",
      "\u001b[0m\u001b[0m\n",
      "\u001b[0m-------------------------------------------------------\u001b[0m\n",
      "\u001b[0m\u001b[0m\n",
      "\u001b[0mYou can now build and install 'ampa_nmda_module' using\u001b[0m\n",
      "\u001b[0m  make\u001b[0m\n",
      "\u001b[0m  make install\u001b[0m\n",
      "\u001b[0m\u001b[0m\n",
      "\u001b[0mThe library file libampa_nmda_module.so will be installed to\u001b[0m\n",
      "\u001b[0m  /tmp/nestml_target_pah1n12j\u001b[0m\n",
      "\u001b[0mThe module can be loaded into NEST using\u001b[0m\n",
      "\u001b[0m  (ampa_nmda_module) Install       (in SLI)\u001b[0m\n",
      "\u001b[0m  nest.Install(ampa_nmda_module)   (in PyNEST)\u001b[0m\n",
      "\u001b[0m\u001b[0m\n",
      "\u001b[33mCMake Warning (dev) in CMakeLists.txt:\n",
      "  No cmake_minimum_required command is present.  A line of code such as\n",
      "\n",
      "    cmake_minimum_required(VERSION 3.31)\n",
      "\n",
      "  should be added at the top of the file.  The version specified may be lower\n",
      "  if you wish to support older CMake versions for this project.  For more\n",
      "  information run \"cmake --help-policy CMP0000\".\n",
      "This warning is for project developers.  Use -Wno-dev to suppress it.\n",
      "\u001b[0m\n",
      "-- Configuring done (1.5s)\n",
      "-- Generating done (0.0s)\n",
      "-- Build files have been written to: /home/shimoura/Github/humam-add-nmda-synapses/notes/renan/target\n",
      "[ 33%] \u001b[32mBuilding CXX object CMakeFiles/ampa_nmda_module_module.dir/ampa_nmda_module.o\u001b[0m\n",
      "[ 66%] \u001b[32mBuilding CXX object CMakeFiles/ampa_nmda_module_module.dir/iaf_psc_exp_multisyn_exc_neuron_nestml.o\u001b[0m\n",
      "/home/shimoura/Github/humam-add-nmda-synapses/notes/renan/target/iaf_psc_exp_multisyn_exc_neuron_nestml.cpp: In member function 'void iaf_psc_exp_multisyn_exc_neuron_nestml::init_state_internal_()':\n",
      "/home/shimoura/Github/humam-add-nmda-synapses/notes/renan/target/iaf_psc_exp_multisyn_exc_neuron_nestml.cpp:194:16: warning: unused variable '__timestep' [-Wunused-variable]\n",
      "  194 |   const double __timestep = nest::Time::get_resolution().get_ms();  // do not remove, this is necessary for the timestep() function\n",
      "      |                ^~~~~~~~~~\n",
      "/home/shimoura/Github/humam-add-nmda-synapses/notes/renan/target/iaf_psc_exp_multisyn_exc_neuron_nestml.cpp: In member function 'void iaf_psc_exp_multisyn_exc_neuron_nestml::recompute_internal_variables(bool)':\n",
      "/home/shimoura/Github/humam-add-nmda-synapses/notes/renan/target/iaf_psc_exp_multisyn_exc_neuron_nestml.cpp:242:16: warning: unused variable '__timestep' [-Wunused-variable]\n",
      "  242 |   const double __timestep = nest::Time::get_resolution().get_ms();  // do not remove, this is necessary for the timestep() function\n",
      "      |                ^~~~~~~~~~\n",
      "/home/shimoura/Github/humam-add-nmda-synapses/notes/renan/target/iaf_psc_exp_multisyn_exc_neuron_nestml.cpp: In member function 'virtual void iaf_psc_exp_multisyn_exc_neuron_nestml::update(const nest::Time&, long int, long int)':\n",
      "/home/shimoura/Github/humam-add-nmda-synapses/notes/renan/target/iaf_psc_exp_multisyn_exc_neuron_nestml.cpp:308:24: warning: comparison of integer expressions of different signedness: 'long int' and 'const size_t' {aka 'const long unsigned int'} [-Wsign-compare]\n",
      "  308 |     for (long i = 0; i < NUM_SPIKE_RECEPTORS; ++i)\n",
      "      |                      ~~^~~~~~~~~~~~~~~~~~~~~\n",
      "/home/shimoura/Github/humam-add-nmda-synapses/notes/renan/target/iaf_psc_exp_multisyn_exc_neuron_nestml.cpp:299:10: warning: variable 'get_t' set but not used [-Wunused-but-set-variable]\n",
      "  299 |     auto get_t = [origin, lag](){ return nest::Time( nest::Time::step( origin.get_steps() + lag + 1) ).get_ms(); };\n",
      "      |          ^~~~~\n",
      "/home/shimoura/Github/humam-add-nmda-synapses/notes/renan/target/iaf_psc_exp_multisyn_exc_neuron_nestml.cpp:293:16: warning: unused variable '__timestep' [-Wunused-variable]\n",
      "  293 |   const double __timestep = nest::Time::get_resolution().get_ms();  // do not remove, this is necessary for the timestep() function\n",
      "      |                ^~~~~~~~~~\n",
      "[100%] \u001b[32m\u001b[1mLinking CXX shared module ampa_nmda_module.so\u001b[0m\n",
      "[100%] Built target ampa_nmda_module_module\n",
      "[100%] Built target ampa_nmda_module_module\n",
      "\u001b[36mInstall the project...\u001b[0m\n",
      "-- Install configuration: \"\"\n",
      "-- Installing: /tmp/nestml_target_pah1n12j/ampa_nmda_module.so\n"
     ]
    }
   ],
   "source": [
    "# generate_target(input_path=nestml_model_dir,\n",
    "#                 target_platform=\"NEST\",\n",
    "#                 target_path=\"/tmp/nestml-component\",\n",
    "#                 logging_level=\"INFO\"\n",
    "#                 )\n",
    "\n",
    "module_name, neuron_model_name = NESTCodeGeneratorUtils.generate_code_for(nestml_model_dir,\n",
    "                                                                          module_name=\"ampa_nmda_module\",)"
   ]
  },
  {
   "cell_type": "markdown",
   "metadata": {},
   "source": [
    "### Instantiate model in NEST Simulator and run\n",
    "\n",
    "Using the PyNEST API, the model can be instantiated and simulated in NEST. The following code will create one instance of the neuron model (`nest.Create(\"iaf_psc_exp_multisynex\")`), inject a pulse current coming from a pre-synaptic spike and run for 500 ms."
   ]
  },
  {
   "cell_type": "code",
   "execution_count": 4,
   "metadata": {},
   "outputs": [],
   "source": [
    "model_params_e = {\n",
    "                # Leak potential of the neurons (in mV).\n",
    "                # See Allen Cells GLIF Parameters.ipynb\n",
    "                'E_L': -70.0,\n",
    "                # Threshold potential of the neurons (in mV).\n",
    "                # See Allen Cells GLIF Parameters.ipynb\n",
    "                'V_th': -45.0,\n",
    "                # Membrane potential after a spike (in mV).\n",
    "                # See Allen Cells GLIF Parameters.ipynb\n",
    "                'V_reset': -70.0,\n",
    "                # Membrane capacitance (in pF).\n",
    "                # See Allen Cells GLIF Parameters.ipynb\n",
    "                'C_m': 300.0,\n",
    "                # Membrane time constant (in ms).\n",
    "                # See Allen Cells GLIF Parameters.ipynb\n",
    "                # Lowered to account for high-conductance state.\n",
    "                'tau_m': 10.0,\n",
    "                # Time constant of postsynaptic excitatory currents (in ms).\n",
    "                # Value for AMPA receptors from (Fourcaud & Brunel, 2002)\n",
    "                'tau_syn_exc_AMPA': 2.0,\n",
    "                # Value for NMDA receptors\n",
    "                'tau_syn_exc_NMDA': 100.0,\n",
    "                # Time constant of postsynaptic inhibitory currents (in ms).\n",
    "                # Value for GABA_A receptors from (Fourcaud & Brunel, 2002)\n",
    "                'tau_syn_inh': 5.0,\n",
    "                # Refractory period of the neurons after a spike (in ms).\n",
    "                't_ref': 2.0,\n",
    "                'r_NMDA': 2.0,\n",
    "                }"
   ]
  },
  {
   "cell_type": "code",
   "execution_count": 5,
   "metadata": {},
   "outputs": [
    {
     "data": {
      "text/plain": [
       "Text(0.5, 0, 'Time [ms]')"
      ]
     },
     "execution_count": 5,
     "metadata": {},
     "output_type": "execute_result"
    },
    {
     "data": {
      "image/png": "[encoded data removed]",
      "text/plain": [
       "<Figure size 640x480 with 1 Axes>"
      ]
     },
     "metadata": {},
     "output_type": "display_data"
    }
   ],
   "source": [
    "nest.set_verbosity(\"M_WARNING\")\n",
    "nest.ResetKernel()\n",
    "nest.Install(module_name)\n",
    "\n",
    "neuron = nest.Create(neuron_model_name)\n",
    "nest.SetStatus(neuron, model_params_e)\n",
    "voltmeter = nest.Create(\"voltmeter\")\n",
    "\n",
    "voltmeter.set({\"record_from\": [\"V_m\"]})\n",
    "nest.Connect(voltmeter, neuron)\n",
    "\n",
    "sg = nest.Create(\"spike_generator\", params={\"spike_times\": [20.]})\n",
    "nest.Connect(sg, neuron, syn_spec={\"weight\": 100., \"delay\": 0.1})\n",
    "\n",
    "sr = nest.Create(\"spike_recorder\")\n",
    "nest.Connect(neuron, sr)\n",
    "\n",
    "nest.Simulate(500.)\n",
    "\n",
    "spike_times = nest.GetStatus(sr, keys='events')[0]['times']\n",
    "\n",
    "fig, ax = plt.subplots(nrows=1)\n",
    "ax.plot(voltmeter.get(\"events\")[\"times\"], voltmeter.get(\"events\")[\"V_m\"])\n",
    "ax.scatter(spike_times, 30 * np.ones_like(spike_times), marker=\"d\", c=\"orange\", alpha=.8, zorder=99)\n",
    "ax.grid(True)\n",
    "ax.set_ylabel(\"V [mV]\")\n",
    "ax.set_xlabel(\"Time [ms]\")"
   ]
  },
  {
   "cell_type": "code",
   "execution_count": 6,
   "metadata": {},
   "outputs": [
    {
     "data": {
      "text/plain": [
       "({'delay': 0.1,\n",
       "  'port': 0,\n",
       "  'receptor': 0,\n",
       "  'sizeof': 32,\n",
       "  'source': 3,\n",
       "  'synapse_id': 26,\n",
       "  'synapse_model': 'static_synapse',\n",
       "  'target': 1,\n",
       "  'target_thread': 0,\n",
       "  'weight': 100.0},)"
      ]
     },
     "execution_count": 6,
     "metadata": {},
     "output_type": "execute_result"
    }
   ],
   "source": [
    "nest.GetStatus(nest.GetConnections(target=neuron, source=sg))"
   ]
  }
 ],
 "metadata": {
  "kernelspec": {
   "display_name": "humam-nest3",
   "language": "python",
   "name": "python3"
  },
  "language_info": {
   "codemirror_mode": {
    "name": "ipython",
    "version": 3
   },
   "file_extension": ".py",
   "mimetype": "text/x-python",
   "name": "python",
   "nbconvert_exporter": "python",
   "pygments_lexer": "ipython3",
   "version": "3.12.7"
  }
 },
 "nbformat": 4,
 "nbformat_minor": 4
}
