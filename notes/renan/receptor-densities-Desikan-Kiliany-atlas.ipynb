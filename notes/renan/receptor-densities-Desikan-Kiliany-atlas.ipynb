{
 "cells": [
  {
   "cell_type": "markdown",
   "id": "9111c570",
   "metadata": {},
   "source": [
    "# Mapping Receptor Features to Brain Regions\n",
    "\n",
    "This notebook demonstrates the process of mapping receptor density features to various brain regions using the siibra library. The workflow includes importing necessary libraries, rendering an ASCII tree of features, fetching receptor features linked to cytoarchitectonic regions, retrieving parcellation maps, assigning regions, visualizing component maps, mapping features to URLs, plotting assignments, and generating tabular outputs for further analysis."
   ]
  },
  {
   "cell_type": "code",
   "execution_count": null,
   "id": "ff493895",
   "metadata": {},
   "outputs": [],
   "source": [
    "import siibra\n",
    "import pandas as pd\n",
    "from tqdm import tqdm\n",
    "from nilearn import plotting"
   ]
  },
  {
   "cell_type": "code",
   "execution_count": null,
   "id": "8e26e4a5",
   "metadata": {},
   "outputs": [],
   "source": [
    "siibra.features.render_ascii_tree(\"Feature\")"
   ]
  },
  {
   "cell_type": "code",
   "execution_count": null,
   "id": "90a2bc12",
   "metadata": {},
   "outputs": [],
   "source": [
    "# fetch receptor features linked to cytoarchitectonic regions\n",
    "receptor_features = siibra.features.get(\n",
    "    siibra.parcellations.get('julich 3.1'), \n",
    "    siibra.features.molecular.ReceptorDensityFingerprint\n",
    ")\n",
    "regions_with_receptor_features = set()\n",
    "for feature in receptor_features:\n",
    "\tfor region in feature.anchor.regions:\n",
    "\t\tregions_with_receptor_features.add(region.name)\n",
    "\n",
    "print(\"Regions with receptor features:\\n - \" + \"\\n - \".join(regions_with_receptor_features))"
   ]
  },
  {
   "cell_type": "code",
   "execution_count": null,
   "id": "fc1f4965",
   "metadata": {},
   "outputs": [],
   "source": [
    "# fetch Desikan/Kiliany map in MNI space\n",
    "desikan_killiany = siibra.parcellations.get('desikan killiany 2006')\n",
    "mni152 = siibra.spaces.MNI_152_ICBM_2009C_NONLINEAR_ASYMMETRIC\n",
    "\n",
    "dkmap = siibra.get_map(\n",
    "    parcellation=desikan_killiany,\n",
    "    space=mni152,\n",
    "    maptype=\"labelled\"\n",
    ")"
   ]
  },
  {
   "cell_type": "code",
   "execution_count": null,
   "id": "c800fed3",
   "metadata": {},
   "outputs": [],
   "source": [
    "# fetch Juelich-Brain cytoarchitectonic map in MNI space\n",
    "julich = siibra.parcellations.get('julich 3.1')\n",
    "julichmap = siibra.get_map(\n",
    "\tparcellation='julich 3.1',\n",
    "\tspace=mni152,\n",
    "\tmaptype=\"statistical\"\n",
    ")"
   ]
  },
  {
   "cell_type": "code",
   "execution_count": null,
   "id": "d6c135fc",
   "metadata": {},
   "outputs": [],
   "source": [
    "# Assign Julich-Brain regions to Desikan-Killiany regions and fetch component maps\n",
    "# TODO: this is taking too long, test with a single region first\n",
    "assignments = {}\n",
    "component_maps = {}\n",
    "\n",
    "for index, dk_region in tqdm(\n",
    "\tenumerate(dkmap.regions), total=1, unit=\"feature\"\n",
    "):\n",
    "\twith siibra.QUIET:\n",
    "\t\tcomponent_map = dkmap.fetch(region=dk_region)\n",
    "\t\tvolume = siibra.volumes.volume.from_nifti(component_map, dkmap.space, dk_region)\n",
    "\t\tassignments[dk_region] = julichmap.assign(volume)\n",
    "\t\tcomponent_maps[dk_region] = component_map"
   ]
  },
  {
   "cell_type": "code",
   "execution_count": null,
   "id": "7e29f0f1",
   "metadata": {},
   "outputs": [],
   "source": [
    "# Plot the component map of the first Desikan-Killiany region\n",
    "plotting.view_img(\n",
    "    component_maps[dkmap.regions[0]],\n",
    "    symmetric_cmap=False,\n",
    "    cmap=\"magma\"\n",
    ")"
   ]
  },
  {
   "cell_type": "markdown",
   "id": "4fee1977",
   "metadata": {},
   "source": [
    "### NEXT cells are just for reference, they are not working with the current version of siibra"
   ]
  },
  {
   "cell_type": "code",
   "execution_count": null,
   "id": "1b610074",
   "metadata": {},
   "outputs": [],
   "source": [
    "# Define the condition for significant matches\n",
    "condition = 'correlation > 0.3 or contained > 0.8 or contains > 0.8'\n",
    "\n",
    "# Initialize the dictionary to store features mapped to URLs\n",
    "features_mapped = {}\n",
    "\n",
    "# Iterate over receptor features\n",
    "for f in tqdm(\n",
    "\treceptor_features, total=len(receptor_features), unit='features'\n",
    "):\n",
    "\t# Construct the URL for the receptor dataset\n",
    "\turl = f\"https://search.kg.ebrains.eu/instances/Dataset/{f.id.split('/')[-1]}\"\n",
    "\tfeatures_mapped[url] = []\n",
    "\t\n",
    "\t# Access the anatomical regions linked to the receptor density feature\n",
    "\tfor juregion in f.anchor.regions:\n",
    "\t\t# Get the regional map for the specified space and type\n",
    "\t\tpmap = juregion.get_regional_mask(space=mni152, maptype=\"labelled\")\n",
    "\t\t\n",
    "\t\t# Assign the regional map to the DK atlas and store the scores\n",
    "\t\tassigned = pd.DataFrame([\n",
    "\t\t\t{'JuRegion': juregion, 'DkRegion': dkregion, **scores}\n",
    "\t\t\tfor dkregion, _, scores in dkmap.assign(pmap.fetch())\n",
    "\t\t])\n",
    "\n",
    "\t\t# Filter assignments based on the defined condition\n",
    "\t\tfor match in assigned.query(condition).itertuples():\n",
    "\t\t\tfeatures_mapped[url].append(match._asdict())\n",
    "\t\t\tfeatures_mapped[url][-1].pop('Index')"
   ]
  },
  {
   "cell_type": "code",
   "execution_count": null,
   "id": "746872bb",
   "metadata": {
    "scrolled": true
   },
   "outputs": [],
   "source": [
    "# plot the assignments\n",
    "from nilearn import plotting\n",
    "\n",
    "features_mapped = {}\n",
    "for feature_url, assignments in features_mapped.items():\n",
    "    for assignment in assignments:\n",
    "        dkmask = dkmap.fetch_regionmap(assignment['DkRegion'])\n",
    "        pmap = assignment['JuRegion'].get_regional_map(mni152, \"continuous\")\n",
    "        view = plotting.plot_stat_map(\n",
    "            pmap.fetch(), \n",
    "            title=f\"{assignment['DkRegion'].name} / {assignment['JuRegion'].name} (rho={assignment['correlation']:.1f})\"\n",
    "        )\n",
    "        view.add_contours(dkmask)"
   ]
  },
  {
   "cell_type": "code",
   "execution_count": null,
   "id": "0d49b483",
   "metadata": {},
   "outputs": [],
   "source": [
    "# create tabular output\n",
    "out = pd.DataFrame(\n",
    "    [\n",
    "        (url, m['JuRegion'].name, m['DkRegion'], m['correlation'], m['overlap'], m['contained'], m['contains'], ) \n",
    "        for url, matches in features_mapped.items() for m in matches\n",
    "    ], \n",
    "    columns=['dataset', 'Julich-Brain region', 'DK region', 'correlation', 'overlap', 'containedness (J>DK)', 'containedness (DK>J)']\n",
    ")\n",
    "out.to_excel('receptor_datasets_mapped_to_dk.xlsx')"
   ]
  },
  {
   "cell_type": "code",
   "execution_count": null,
   "id": "5fb7cfee",
   "metadata": {},
   "outputs": [],
   "source": []
  }
 ],
 "metadata": {
  "kernelspec": {
   "display_name": "humam-extension",
   "language": "python",
   "name": "python3"
  },
  "language_info": {
   "codemirror_mode": {
    "name": "ipython",
    "version": 3
   },
   "file_extension": ".py",
   "mimetype": "text/x-python",
   "name": "python",
   "nbconvert_exporter": "python",
   "pygments_lexer": "ipython3",
   "version": "3.12.7"
  }
 },
 "nbformat": 4,
 "nbformat_minor": 5
}
