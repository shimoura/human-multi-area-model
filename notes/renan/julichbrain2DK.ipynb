{
 "cells": [
  {
   "attachments": {},
   "cell_type": "markdown",
   "metadata": {},
   "source": [
    "# Mapping Julich/Brodmann to Desikan-Killiany parcelation\n",
    "\n",
    "This notebook maps the neuron receptor distribution presented in Zilles & Palomero (2017) to the Desikan-Killiany parcellation. Zilles & Palomero (2017) examined 44 areas that were defined using Brodmann and JuelichBrain Atlases. \n",
    "\n",
    "Reference:\n",
    "- Zilles, K., & Palomero-Gallagher, N. (2017). Multiple transmitter receptors in regions and layers of the human cerebral cortex. Frontiers in Neuroanatomy, 11, 78. https://doi.org/10.3389/fnana.2017.00078"
   ]
  },
  {
   "cell_type": "code",
   "execution_count": null,
   "metadata": {},
   "outputs": [],
   "source": [
    "import pandas as pd\n",
    "import numpy as np\n",
    "import seaborn as sns\n",
    "import matplotlib.pyplot as plt"
   ]
  },
  {
   "attachments": {},
   "cell_type": "markdown",
   "metadata": {},
   "source": [
    "## Loading data"
   ]
  },
  {
   "attachments": {},
   "cell_type": "markdown",
   "metadata": {},
   "source": [
    "Areas mapped by Rembrandt with their respective coordinates and regions."
   ]
  },
  {
   "cell_type": "code",
   "execution_count": null,
   "metadata": {},
   "outputs": [],
   "source": [
    "data_regions = {\n",
    "  \"1\": {\n",
    "    \"coord\": [-55.2,-13.3,35.3],\n",
    "    \"region\": \"postcentral\"\n",
    "  },\n",
    "  \"2\":{\n",
    "    \"coord\": [-49.7,-21.3,30.3],\n",
    "    \"region\": \"postcentral\"    \n",
    "  },\n",
    "  \"3a,3b\":{\n",
    "    \"coord\": [-39.5,-8.9,33.1],\n",
    "    \"region\": \"postcentral\"    \n",
    "  },\n",
    "  \"4\":{\n",
    "    \"coord\":[-55.3,-4.5,28.3],\n",
    "    \"region\":\"precentral\"\n",
    "  },\n",
    "  \"5L\": {\n",
    "    \"coord\": [-20.4,-27.5,58.5],\n",
    "    \"region\": \"postcentral\"\n",
    "  },\n",
    "  \"5M\": {\n",
    "    \"coord\": [-2.7,-31.8,52.9],\n",
    "    \"region\": \"paracentral\"\n",
    "  },\n",
    "  \"6\":{\n",
    "    \"coord\": [-13.3,24.9,44.3],\n",
    "    \"region\": \"caudalmiddlefrontal\"\n",
    "  },\n",
    "  \"8\":{\n",
    "    \"coord\": [-23.1,22.7,29.5],\n",
    "    \"region\":\"superiorfrontal\"\n",
    "  },\n",
    "  \"9\":{\n",
    "    \"coord\": [-13.3,60.8,8.5],\n",
    "    \"region\":\"superiorfrontal\"\n",
    "  },\n",
    "  \"10L\": {\n",
    "    \"coord\": [-14,64.5,-29.6],\n",
    "    \"region\": \"frontalpole\"\n",
    "  },\n",
    "  \"10M\":{\n",
    "    \"coord\": [-1.1,56.2,-26.8],\n",
    "    \"region\": \"frontalpole\"\n",
    "  },\n",
    "  \"11\":{\n",
    "    \"coord\": [-0.7,23.7,-41.8],\n",
    "    \"region\":\"medialorbitofrontal\"\n",
    "  },\n",
    "  \"20\":{\n",
    "    \"coord\": [-59.6,-28.5,-40],\n",
    "    \"region\": \"inferiortemporal\"\n",
    "  },\n",
    "  \"21\": {\n",
    "    \"coord\": [-67.4,-14.7,-30.8],\n",
    "    \"region\": \"middletemporal\"\n",
    "  },\n",
    "  \"22\": {\n",
    "    \"coord\": [-63.5,-0.5,-20.9],\n",
    "    \"region\": \"superiortemporal\"\n",
    "  },\n",
    "  \"23\":{\n",
    "    \"comment\":\"This is actually 23D, 23V is coming\",\n",
    "    \"coord\": [-1.1,-15.8,15.1],\n",
    "    \"region\": \"posteriorcingulate\"\n",
    "  },\n",
    "  \"24\":{\n",
    "    \"coord\":[-3.2,32.4,-11],\n",
    "    \"region\": \"caudalanteriorcingulate\"\n",
    "  },\n",
    "  \"31\":{\n",
    "    \"coord\": [-1.1,-25.6,24.6],\n",
    "    \"region\": \"posteriorcingulate\"\n",
    "  },\n",
    "  \"32\":{\n",
    "    \"coord\":[-0.4,38.2,-10.6],\n",
    "    \"region\":\"rostralanteriorcingulate\"\n",
    "  },\n",
    "  \"36\":{\n",
    "    \"coord\":[-37.6,-28.3,-43.6],\n",
    "    \"region\":\"fusiform\"\n",
    "  },\n",
    "  \"37B\":{\n",
    "    \"coord\":[-55,-56.8,-31.8],\n",
    "    \"region\":\"inferiortemporal\"\n",
    "  },\n",
    "  \"37M\":{\n",
    "    \"coord\":[-38,-44.5,-33.6],\n",
    "    \"region\":\"fusiform\"\n",
    "  },\n",
    "  \"37L\": {\n",
    "    \"coord\": [-64.3,-58.3,-17.8],\n",
    "    \"region\": \"inferiortemporal\"\n",
    "  },\n",
    "  \"38\": {\n",
    "    \"coord\": [-34.4,14.5,-51.1],\n",
    "    \"region\": \"temporalpole\"\n",
    "  },  \n",
    "  \"41\": {\n",
    "    \"coord\": [-46.7,-16.8,-2.8],\n",
    "    \"region\": \"transversetemporal\"\n",
    "  },\n",
    "  \"42\": {\n",
    "    \"coord\": [-57.7,-13.2,-3.2],\n",
    "    \"region\": \"superiortemporal\",\n",
    "    \"comment\": \"deep into sulcus, lateral to 41\"\n",
    "  },\n",
    "  \"44\": {\n",
    "    \"coord\": [-58.6,18.8,-6.7],\n",
    "    \"region\": \"parsopercularis\"\n",
    "  },\n",
    "  \"45\": {\n",
    "    \"coord\": [-57.9,30.8,-18.5],\n",
    "    \"region\": \"parstriangularis\"\n",
    "  },\n",
    "  \"46\": {\n",
    "    \"coord\": [-43.3,52.5,-11.6],\n",
    "    \"region\": \"rostralmiddlefrontal\"\n",
    "  },\n",
    "  \"47\": {\n",
    "    \"coord\": [-50.9,30.6,-32.5],\n",
    "    \"region\": \"parsorbitalis\"\n",
    "  },\n",
    "  \"FG1\":{\n",
    "    \"coord\":[-26.6,-59.2,-21.5],\n",
    "    \"region\":\"fusiform\"\n",
    "  },\n",
    "  \"FG2\":{\n",
    "    \"coord\":[-40.6,-66.3,-24],\n",
    "    \"region\":\"fusiform\"\n",
    "  },\n",
    "  \"PFt\": {\n",
    "    \"coord\": [-65.6,-21,17],\n",
    "    \"region\": \"supramarginal\"\n",
    "  },\n",
    "  \"PFm\": {\n",
    "    \"coord\": [-53,-42.1,37.5],\n",
    "    \"region\": \"supramarginal\"\n",
    "  },\n",
    "  \"PGa\": {\n",
    "    \"coord\": [-42.5,-64.8,31.9],\n",
    "    \"region\": \"inferiorparietal\"\n",
    "  },\n",
    "  \"PGp\": {\n",
    "    \"coord\": [-33.3,-80.9,20.2],\n",
    "    \"region\":  \"inferiorparietal\"\n",
    "  },\n",
    "  \"V1\":{\n",
    "    \"coord\":[-6.9,-81.9,3.7],\n",
    "    \"region\": \"pericalcarine\"\n",
    "  },\n",
    "  \"V2d\":{\n",
    "    \"coord\":[-0.2,-82.3,12.7],\n",
    "    \"region\":\"cuneus\"\n",
    "  },\n",
    "  \"V2v\":{\n",
    "    \"coord\":[-0.2,-86.3,3.9],\n",
    "    \"region\":\"lingual\"\n",
    "  },\n",
    "  \"V3A\":{\n",
    "    \"coord\":[-5.4,-70.6,26.2],\n",
    "    \"region\":\"superiorparietal\"\n",
    "  },\n",
    "  \"V3d\":{\n",
    "    \"coord\":[-4.5,-81.3,24],\n",
    "    \"region\":\"superiorparietal\"\n",
    "  },\n",
    "  \"V3v\":{\n",
    "    \"coord\":[-21.4,-76.7,-21.1],\n",
    "    \"region\":\"lingual\"\n",
    "  },\n",
    "  \"V4v\": {\n",
    "    \"coord\": [-36.1,-88,-20.7],\n",
    "    \"region\": \"lateraloccipital\"\n",
    "  }\n",
    "}"
   ]
  },
  {
   "cell_type": "code",
   "execution_count": null,
   "metadata": {},
   "outputs": [],
   "source": [
    "# Data from dict to Pandas Dataframe:\n",
    "julichbrain2DK = pd.DataFrame.from_dict(data_regions, orient='index')\n",
    "\n",
    "# Drop coordinates and remark columns:\n",
    "julichbrain2DK = julichbrain2DK.drop(['coord', 'comment'], axis=1)\n",
    "\n",
    "# Convert index labels to a column. Then, rename it accordingly and set it as the new index.\n",
    "julichbrain2DK = julichbrain2DK.reset_index().rename(columns={'region': 'dk_parcellation', 'index': 'julich_brain'}).\\\n",
    "    set_index(['dk_parcellation','julich_brain'])"
   ]
  },
  {
   "attachments": {},
   "cell_type": "markdown",
   "metadata": {},
   "source": [
    "## Julich/Brodmann areas contained in DK parcellation"
   ]
  },
  {
   "cell_type": "code",
   "execution_count": null,
   "metadata": {},
   "outputs": [],
   "source": [
    "julichbrain2DK.sort_index(level=0)"
   ]
  },
  {
   "attachments": {},
   "cell_type": "markdown",
   "metadata": {},
   "source": [
    "DK areas:"
   ]
  },
  {
   "cell_type": "code",
   "execution_count": null,
   "metadata": {},
   "outputs": [],
   "source": [
    "DK_areas = ['bankssts',\n",
    " 'caudalanteriorcingulate',\n",
    " 'caudalmiddlefrontal',\n",
    " 'cuneus',\n",
    " 'entorhinal',\n",
    " 'fusiform',\n",
    " 'inferiorparietal',\n",
    " 'inferiortemporal',\n",
    " 'isthmuscingulate',\n",
    " 'lateraloccipital',\n",
    " 'lateralorbitofrontal',\n",
    " 'lingual',\n",
    " 'medialorbitofrontal',\n",
    " 'middletemporal',\n",
    " 'parahippocampal',\n",
    " 'paracentral',\n",
    " 'parsopercularis',\n",
    " 'parsorbitalis',\n",
    " 'parstriangularis',\n",
    " 'pericalcarine',\n",
    " 'postcentral',\n",
    " 'posteriorcingulate',\n",
    " 'precentral',\n",
    " 'precuneus',\n",
    " 'rostralanteriorcingulate',\n",
    " 'rostralmiddlefrontal',\n",
    " 'superiorfrontal',\n",
    " 'superiorparietal',\n",
    " 'superiortemporal',\n",
    " 'supramarginal',\n",
    " 'frontalpole',\n",
    " 'temporalpole',\n",
    " 'transversetemporal',\n",
    " 'insula']"
   ]
  },
  {
   "attachments": {},
   "cell_type": "markdown",
   "metadata": {},
   "source": [
    "## DK missing areas when mapping from Julich/Brodmann:"
   ]
  },
  {
   "cell_type": "code",
   "execution_count": null,
   "metadata": {},
   "outputs": [],
   "source": [
    "# Checking how many DK areas were not accounted\n",
    "grouped_DK = julichbrain2DK.groupby(['dk_parcellation']).groups\n",
    "DK_not_included = []\n",
    "DK_included = []\n",
    "for value in DK_areas:\n",
    "    if value in grouped_DK.keys():\n",
    "        DK_included.append(value)\n",
    "    else:\n",
    "        DK_not_included.append(value)"
   ]
  },
  {
   "cell_type": "code",
   "execution_count": null,
   "metadata": {},
   "outputs": [],
   "source": [
    "DK_not_included"
   ]
  },
  {
   "attachments": {},
   "cell_type": "markdown",
   "metadata": {},
   "source": [
    "## Neuron receptor distribution from Zilles & Palomero (2017):"
   ]
  },
  {
   "cell_type": "code",
   "execution_count": null,
   "metadata": {},
   "outputs": [],
   "source": [
    "receptor_list = ['AMPA','NMDA']\n",
    "data_receptors = pd.read_excel('receptor-distribution-multitabs.xlsx', sheet_name=receptor_list, index_col=0, header=0)\n",
    "\n",
    "# layer depths\n",
    "layer = ['supragranular', 'SD', 'granular', 'SD.1', 'infragranular', 'SD.2']"
   ]
  },
  {
   "attachments": {},
   "cell_type": "markdown",
   "metadata": {},
   "source": [
    "Extracting AMPA and NMDA distributions:"
   ]
  },
  {
   "cell_type": "code",
   "execution_count": null,
   "metadata": {},
   "outputs": [],
   "source": [
    "data_receptors['AMPA'].index = data_receptors['AMPA'].index.astype(str) # it garantees that all labels are strings\n",
    "ampa_dist = julichbrain2DK.join(data_receptors['AMPA'][layer], on='julich_brain')\n",
    "\n",
    "data_receptors['NMDA'].index = data_receptors['NMDA'].index.astype(str) # it garantees that all labels are strings\n",
    "nmda_dist = julichbrain2DK.join(data_receptors['NMDA'][layer], on='julich_brain')"
   ]
  },
  {
   "cell_type": "markdown",
   "metadata": {},
   "source": [
    "## Calculating the NMDA to AMPA ratios"
   ]
  },
  {
   "cell_type": "code",
   "execution_count": null,
   "metadata": {},
   "outputs": [],
   "source": [
    "# Define specific columns\n",
    "specific_columns = ['supragranular', 'granular', 'infragranular']  # columns to calculate the ratio\n",
    "\n",
    "# Calculate NMDA to AMPA ratios\n",
    "nmda_to_ampa = nmda_dist[specific_columns] / ampa_dist[specific_columns]\n",
    "\n",
    "# Define columns for standard deviations\n",
    "specific_columns_std = ['SD', 'SD.1', 'SD.2']\n",
    "\n",
    "# Calculate the propagated error for the standard deviations\n",
    "nmda_std = nmda_dist[specific_columns_std]\n",
    "ampa_std = ampa_dist[specific_columns_std]\n",
    "\n",
    "nmda_to_ampa_std = pd.DataFrame(index=nmda_to_ampa.index, columns=specific_columns)\n",
    "for col, col_std in zip(specific_columns, specific_columns_std):\n",
    "\tnmda_to_ampa_std[col] = nmda_to_ampa[col] * np.sqrt((nmda_std[col_std] / nmda_dist[col])**2 + (ampa_std[col_std] / ampa_dist[col])**2)"
   ]
  },
  {
   "cell_type": "code",
   "execution_count": null,
   "metadata": {},
   "outputs": [],
   "source": [
    "nmda_to_ampa.index.get_level_values(0)"
   ]
  },
  {
   "cell_type": "code",
   "execution_count": null,
   "metadata": {},
   "outputs": [],
   "source": [
    "ax = nmda_to_ampa.plot(marker='o', yerr=nmda_to_ampa_std, figsize=[10,5], title='NMDA/AMPA')\n",
    "ax.set_ylabel('NMDA/AMPA')\n",
    "ax.set_xticks(range(len(nmda_to_ampa.index)))\n",
    "ax.set_xticklabels(nmda_to_ampa.index.get_level_values(1), rotation=90)\n",
    "plt.tight_layout();"
   ]
  },
  {
   "attachments": {},
   "cell_type": "markdown",
   "metadata": {},
   "source": [
    "### Averaging across Julich/Brodmann areas contained into DK (here and below TO BE FIXED)\n",
    "\n",
    "Here we can check how neuron receptor distribution values for multiple areas contained in DK vary by averaging and calculating the standard deviation."
   ]
  },
  {
   "cell_type": "code",
   "execution_count": null,
   "metadata": {},
   "outputs": [],
   "source": [
    "ampa_mean = ampa_dist.groupby(level=0).mean().round(2)\n",
    "ampa_std = ampa_dist.groupby(level=0).std().round(2)\n",
    "\n",
    "# printing all values together\n",
    "ampa_dist.groupby(level=0).agg(['mean','std']).round(2)"
   ]
  },
  {
   "cell_type": "code",
   "execution_count": null,
   "metadata": {},
   "outputs": [],
   "source": [
    "ax = ampa_mean.plot(marker='o', yerr=ampa_std, figsize=[10,3], title='AMPA')\n",
    "ax.set_xticks(range(len(ampa_mean.index)))\n",
    "ax.set_xticklabels(ampa_mean.index, rotation=90);"
   ]
  },
  {
   "cell_type": "code",
   "execution_count": null,
   "metadata": {},
   "outputs": [],
   "source": [
    "nmda_mean = nmda_dist.groupby(level=0).mean().round(2)\n",
    "nmda_std = nmda_dist.groupby(level=0).std().round(2)\n",
    "\n",
    "# printing all values together\n",
    "nmda_dist.groupby(level=0).agg(['mean','std']).round(2)"
   ]
  },
  {
   "cell_type": "code",
   "execution_count": null,
   "metadata": {},
   "outputs": [],
   "source": [
    "ax = nmda_mean.plot(marker='o', yerr=nmda_std, figsize=[10,3], title='NMDA')\n",
    "ax.set_xticks(range(len(nmda_mean.index)))\n",
    "ax.set_xticklabels(nmda_mean.index, rotation=90);"
   ]
  },
  {
   "cell_type": "code",
   "execution_count": null,
   "metadata": {},
   "outputs": [],
   "source": [
    "ratio = nmda_mean/ampa_mean\n",
    "ax = ratio.plot(marker='o', figsize=[10,3], title='NMDA/AMPA')\n",
    "ax.set_xticks(range(len(ratio.index)))\n",
    "ax.set_xticklabels(ratio.index, rotation=90);"
   ]
  },
  {
   "cell_type": "code",
   "execution_count": null,
   "metadata": {},
   "outputs": [],
   "source": []
  }
 ],
 "metadata": {
  "kernelspec": {
   "display_name": "humam-ext",
   "language": "python",
   "name": "python3"
  },
  "language_info": {
   "codemirror_mode": {
    "name": "ipython",
    "version": 3
   },
   "file_extension": ".py",
   "mimetype": "text/x-python",
   "name": "python",
   "nbconvert_exporter": "python",
   "pygments_lexer": "ipython3",
   "version": "3.12.7"
  },
  "orig_nbformat": 4
 },
 "nbformat": 4,
 "nbformat_minor": 2
}
