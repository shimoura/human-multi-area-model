{
 "cells": [
  {
   "cell_type": "code",
   "execution_count": 1,
   "metadata": {},
   "outputs": [],
   "source": [
    "%matplotlib inline"
   ]
  },
  {
   "cell_type": "markdown",
   "metadata": {},
   "source": [
    "# IF curve"
   ]
  },
  {
   "cell_type": "code",
   "execution_count": 2,
   "metadata": {},
   "outputs": [
    {
     "name": "stdout",
     "output_type": "stream",
     "text": [
      "\n",
      "              -- N E S T --\n",
      "  Copyright (C) 2004 The NEST Initiative\n",
      "\n",
      " Version: 3.3\n",
      " Built: Sep 12 2022 04:40:40\n",
      "\n",
      " This program is provided AS IS and comes with\n",
      " NO WARRANTY. See the file LICENSE for details.\n",
      "\n",
      " Problems or suggestions?\n",
      "   Visit https://www.nest-simulator.org\n",
      "\n",
      " Type 'nest.help()' to find out more about NEST.\n",
      "\n"
     ]
    }
   ],
   "source": [
    "import numpy as np\n",
    "import nest\n",
    "import matplotlib.pyplot as plt"
   ]
  },
  {
   "cell_type": "markdown",
   "metadata": {},
   "source": [
    "Here we define which model and the neuron parameters to use for measuring\n",
    "the transfer function.\n",
    "\n"
   ]
  },
  {
   "cell_type": "code",
   "execution_count": 3,
   "metadata": {},
   "outputs": [],
   "source": [
    "model = 'iaf_psc_exp'\n",
    "params_e = {\n",
    "            # Leak potential of the neurons (in mV).\n",
    "            # See Allen Cells GLIF Parameters.ipynb\n",
    "            'E_L': -70.0,\n",
    "            # Threshold potential of the neurons (in mV).\n",
    "            # See Allen Cells GLIF Parameters.ipynb\n",
    "            'V_th': -45.0,\n",
    "            # Membrane potential after a spike (in mV).\n",
    "            # See Allen Cells GLIF Parameters.ipynb\n",
    "            'V_reset': -70.0,\n",
    "            # Membrane capacitance (in pF).\n",
    "            # See Allen Cells GLIF Parameters.ipynb\n",
    "            'C_m': 300.0,\n",
    "            # Membrane time constant (in ms).\n",
    "            # See Allen Cells GLIF Parameters.ipynb\n",
    "            # Lowered to account for high-conductance state.\n",
    "            'tau_m': 10.0,\n",
    "            # Time constant of postsynaptic excitatory currents (in ms).\n",
    "            # Value for AMPA receptors from (Fourcaud & Brunel, 2002)\n",
    "            'tau_syn_ex': 2.0,\n",
    "            # Time constant of postsynaptic inhibitory currents (in ms).\n",
    "            # Value for GABA_A receptors from (Fourcaud & Brunel, 2002)\n",
    "            'tau_syn_in': 5.0,\n",
    "            # Refractory period of the neurons after a spike (in ms).\n",
    "            't_ref': 2.0\n",
    "            }\n",
    "\n",
    "params_i = {\n",
    "            # Leak potential of the neurons (in mV).\n",
    "            # See Allen Cells GLIF Parameters.ipynb\n",
    "            'E_L': -70.0,\n",
    "            # Threshold potential of the neurons (in mV).\n",
    "            # See Allen Cells GLIF Parameters.ipynb\n",
    "            'V_th': -45.0,\n",
    "            # Membrane potential after a spike (in mV).\n",
    "            # See Allen Cells GLIF Parameters.ipynb\n",
    "            'V_reset': -70.0,\n",
    "            # Membrane capacitance (in pF).\n",
    "            # See Allen Cells GLIF Parameters.ipynb\n",
    "            'C_m': 100.0,\n",
    "            # Membrane time constant (in ms).\n",
    "            # See Allen Cells GLIF Parameters.ipynb\n",
    "            # Lowered to account for high-conductance state.\n",
    "            'tau_m': 10.0,\n",
    "            # Time constant of postsynaptic excitatory currents (in ms).\n",
    "            # Value for AMPA receptors from (Fourcaud & Brunel, 2002)\n",
    "            'tau_syn_ex': 2.0,\n",
    "            # Time constant of postsynaptic inhibitory currents (in ms).\n",
    "            # Value for GABA_A receptors from (Fourcaud & Brunel, 2002)\n",
    "            'tau_syn_in': 5.0,\n",
    "            # Refractory period of the neurons after a spike (in ms).\n",
    "            't_ref': 2.0\n",
    "            }"
   ]
  },
  {
   "cell_type": "code",
   "execution_count": 4,
   "metadata": {},
   "outputs": [],
   "source": [
    "class IF_curve():\n",
    "\n",
    "    t_sim = 1000.         # Duration of a measurement trial\n",
    "    n_neurons = 100       # Number of neurons\n",
    "    n_threads = 4         # Nubmer of threads to run the simulation\n",
    "\n",
    "    def __init__(self, model, params=False):\n",
    "        self.model = model\n",
    "        self.params = params\n",
    "        self.build()\n",
    "        self.connect()\n",
    "\n",
    "    def build(self):\n",
    "        #######################################################################\n",
    "        #  We reset NEST to delete information from previous simulations\n",
    "        # and adjust the number of threads.\n",
    "\n",
    "        nest.ResetKernel()\n",
    "        nest.SetKernelStatus({'local_num_threads': self.n_threads})\n",
    "\n",
    "        #######################################################################\n",
    "        # We set the default parameters of the neuron model to those\n",
    "        # defined above and create neurons and devices.\n",
    "\n",
    "        if self.params:\n",
    "            nest.SetDefaults(self.model, self.params)\n",
    "        self.neuron = nest.Create(self.model, self.n_neurons)\n",
    "        self.spike_detector = nest.Create('spike_recorder')\n",
    "\n",
    "    def connect(self):\n",
    "        #######################################################################\n",
    "        # We connect the neurons to the spike detectors.\n",
    "\n",
    "        nest.Connect(self.neuron, self.spike_detector, 'all_to_all')\n",
    "\n",
    "    def output_rate(self, mean):\n",
    "        self.build()\n",
    "        self.connect()\n",
    "        nest.SetStatus(self.neuron, \"I_e\", mean)\n",
    "        nest.Simulate(self.t_sim)\n",
    "        rate = nest.GetStatus(self.spike_detector, 'n_events')[0] * 1000.0 \\\n",
    "            / (1. * self.n_neurons * self.t_sim)\n",
    "        return rate\n",
    "\n",
    "    def compute_transfer(self, i_mean=(400.0, 900.0, 50.0)):\n",
    "        #######################################################################\n",
    "        # We loop through all possible combinations of `(I_mean, I_sigma)`\n",
    "        # and measure the output rate of the neuron.\n",
    "\n",
    "        self.i_range = np.arange(*i_mean)\n",
    "        self.rate = np.zeros(self.i_range.size)\n",
    "        nest.set_verbosity('M_WARNING')\n",
    "        for n, i in enumerate(self.i_range):\n",
    "#             print('I  =  {0}'.format(i))\n",
    "            self.rate[n] = self.output_rate(i)"
   ]
  },
  {
   "cell_type": "code",
   "execution_count": 5,
   "metadata": {},
   "outputs": [],
   "source": [
    "transfer_e = IF_curve(model, params_e)\n",
    "transfer_e.compute_transfer(i_mean=(0.0,1500.0,10.0))\n",
    "\n",
    "transfer_i = IF_curve(model, params_i)\n",
    "transfer_i.compute_transfer(i_mean=(0.0,1500.0,10.0))"
   ]
  },
  {
   "cell_type": "markdown",
   "metadata": {},
   "source": [
    "Ploting the FxI curve:\n",
    "\n"
   ]
  },
  {
   "cell_type": "code",
   "execution_count": 6,
   "metadata": {},
   "outputs": [
    {
     "data": {
      "image/png": "[encoded data removed]",
      "text/plain": [
       "<Figure size 640x480 with 1 Axes>"
      ]
     },
     "metadata": {},
     "output_type": "display_data"
    }
   ],
   "source": [
    "plt.plot(transfer_e.i_range, transfer_e.rate, label='Exc', color='k')\n",
    "plt.plot(transfer_i.i_range, transfer_i.rate, label='Inh', color='r')\n",
    "plt.xlabel('I [pA]')\n",
    "plt.ylabel('f [Hz]')\n",
    "# plt.xlim(0,300)\n",
    "plt.legend()\n",
    "plt.tight_layout()"
   ]
  }
 ],
 "metadata": {
  "kernelspec": {
   "display_name": "Python 3 (ipykernel)",
   "language": "python",
   "name": "python3"
  },
  "language_info": {
   "codemirror_mode": {
    "name": "ipython",
    "version": 3
   },
   "file_extension": ".py",
   "mimetype": "text/x-python",
   "name": "python",
   "nbconvert_exporter": "python",
   "pygments_lexer": "ipython3",
   "version": "3.10.6"
  }
 },
 "nbformat": 4,
 "nbformat_minor": 4
}
